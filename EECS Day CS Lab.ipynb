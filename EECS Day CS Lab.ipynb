{
 "cells": [
  {
   "cell_type": "markdown",
   "metadata": {},
   "source": [
    "# EECS Day CS Lab\n"
   ]
  },
  {
   "cell_type": "markdown",
   "metadata": {
    "collapsed": true
   },
   "source": [
    "Welcome to EECS Day! Today you'll have the chance to take part in a sample Computer Science lab to get an idea of what CS is about and what can be accomplished with a little bit of code. The language we'll be working with is called Python, and it is the language that the introductory CS course is taught in at UC Berkeley. Don't worry if you haven't had the chance to write your own code yet; we'll start with the basics."
   ]
  },
  {
   "cell_type": "markdown",
   "metadata": {},
   "source": [
    "The environment we'll be working with is called an IPython Notebook. In this interface, we can embed both blocks of code and and text and graphically interact with our code. To run a block of code, press 'Shift-Enter'. Try this on the following block of code."
   ]
  },
  {
   "cell_type": "code",
   "execution_count": null,
   "metadata": {
    "collapsed": false
   },
   "outputs": [],
   "source": [
    "print(\"Hello World!\")"
   ]
  },
  {
   "cell_type": "markdown",
   "metadata": {},
   "source": [
    "Congratulations, you just ran your first line of Python code! It should have printed out the words \"Hello World!\""
   ]
  },
  {
   "cell_type": "markdown",
   "metadata": {},
   "source": [
    "You can also use Python to perform arithmetic. Try running the blocks of code below and identifying what is happening."
   ]
  },
  {
   "cell_type": "code",
   "execution_count": null,
   "metadata": {
    "collapsed": false
   },
   "outputs": [],
   "source": [
    "1+1"
   ]
  },
  {
   "cell_type": "code",
   "execution_count": null,
   "metadata": {
    "collapsed": false
   },
   "outputs": [],
   "source": [
    "3*2"
   ]
  },
  {
   "cell_type": "code",
   "execution_count": null,
   "metadata": {
    "collapsed": false
   },
   "outputs": [],
   "source": [
    "3**2 # 3^2"
   ]
  },
  {
   "cell_type": "code",
   "execution_count": null,
   "metadata": {
    "collapsed": false
   },
   "outputs": [],
   "source": [
    "2**16"
   ]
  },
  {
   "cell_type": "code",
   "execution_count": null,
   "metadata": {
    "collapsed": false
   },
   "outputs": [],
   "source": [
    "((2**3 + 5) - 5) * 3"
   ]
  },
  {
   "cell_type": "markdown",
   "metadata": {},
   "source": [
    "## Intro to Variables, Assignment, Strings, Integers\n"
   ]
  },
  {
   "cell_type": "markdown",
   "metadata": {},
   "source": [
    "All applications, games, search engines use and store different types of data in Variables.  A Variable stores a piece of data, and gives it a specific name. For example:"
   ]
  },
  {
   "cell_type": "markdown",
   "metadata": {},
   "source": [
    "The following code creates and assigns the Variable my_name to ”Oski” and the Variables my_age to 147 and the Variables my_major to ‘EECS’"
   ]
  },
  {
   "cell_type": "code",
   "execution_count": null,
   "metadata": {
    "collapsed": false
   },
   "outputs": [],
   "source": [
    "my_name = \"Oski\"\n",
    "age = 147\n",
    "my_major = \"EECS\"\n",
    "print(my_name)\n",
    "print(age)\n",
    "print(my_major)"
   ]
  },
  {
   "cell_type": "markdown",
   "metadata": {},
   "source": [
    "Notice how Oski is in quotes while 147 is not. This is because in the Python syntax, Strings must be surrounded with quote, to differentiate them from other Integers and Variables. A String is essentially a sequence of alphanumeric characters."
   ]
  },
  {
   "cell_type": "markdown",
   "metadata": {},
   "source": [
    "Once we assign values to Variables, we can call the Variables and it will give us its value back."
   ]
  },
  {
   "cell_type": "code",
   "execution_count": null,
   "metadata": {
    "collapsed": false
   },
   "outputs": [],
   "source": [
    "my_name"
   ]
  },
  {
   "cell_type": "code",
   "execution_count": null,
   "metadata": {
    "collapsed": false
   },
   "outputs": [],
   "source": [
    "age"
   ]
  },
  {
   "cell_type": "code",
   "execution_count": null,
   "metadata": {
    "collapsed": false
   },
   "outputs": [],
   "source": [
    "my_major"
   ]
  },
  {
   "cell_type": "markdown",
   "metadata": {},
   "source": [
    "We can also re-assign the Variables to a different value and also the values of other Variables!"
   ]
  },
  {
   "cell_type": "code",
   "execution_count": null,
   "metadata": {
    "collapsed": false
   },
   "outputs": [],
   "source": [
    "my_name = \"Berkeley\"\n",
    "print(\"My name before: \" + my_name)\n",
    "my_name = my_major\n",
    "print(\"My name after: \" + my_name)\n",
    "print(\"My major: \" + my_major)"
   ]
  },
  {
   "cell_type": "markdown",
   "metadata": {},
   "source": [
    "Notice how my_major is still ‘EECS’ because we never changed it! Also note, we can combine strings together by using the '+' operator."
   ]
  },
  {
   "cell_type": "markdown",
   "metadata": {},
   "source": [
    "## Booleans\n",
    "There are other types of variables besides words and numbers. What about a statement, like “Blue Whales are the heaviest mammals?” This statement has only two possibilities - it is True, or it is False. Statements that \n",
    "are either true or false, with no in-betweens, are called Boolean expressions.\n",
    "\n",
    "Here are a few examples of expressions in Python that evaluate to True or False:"
   ]
  },
  {
   "cell_type": "code",
   "execution_count": null,
   "metadata": {
    "collapsed": false
   },
   "outputs": [],
   "source": [
    "print(1==0)"
   ]
  },
  {
   "cell_type": "code",
   "execution_count": null,
   "metadata": {
    "collapsed": false
   },
   "outputs": [],
   "source": [
    "print(0==True)"
   ]
  },
  {
   "cell_type": "code",
   "execution_count": null,
   "metadata": {
    "collapsed": false
   },
   "outputs": [],
   "source": [
    "print(0==False)"
   ]
  },
  {
   "cell_type": "code",
   "execution_count": null,
   "metadata": {
    "collapsed": false
   },
   "outputs": [],
   "source": [
    "print(1>-2)"
   ]
  },
  {
   "cell_type": "code",
   "execution_count": null,
   "metadata": {
    "collapsed": false
   },
   "outputs": [],
   "source": [
    "print(3*3>=8)"
   ]
  },
  {
   "cell_type": "code",
   "execution_count": null,
   "metadata": {
    "collapsed": false
   },
   "outputs": [],
   "source": [
    "print(True)"
   ]
  },
  {
   "cell_type": "markdown",
   "metadata": {},
   "source": [
    "### Boolean Operators\n",
    "\n",
    "There’s one more thing to learn about booleans. How do you check if two expressions are both true? How do you check one function or the other? How do you check if an expression is false?\n",
    "\n",
    "You and your friend are going to Memorial Glade for a picnic. You only want to go if it’s sunny and the temperature is over 70 degrees. If you were asking your friend, the question could be phrased “Is it warm and sunny?” Asking the computer is the same - just use and between two expressions. \n"
   ]
  },
  {
   "cell_type": "markdown",
   "metadata": {},
   "source": [
    "and is called a boolean operator. It works just like the mathematical operators ( + - * / ) you are used to. Put them between two expressions, and get one back. There are two more operators in Python, called or and not. or is True if the first expression or the second expression is True. not doesn’t work like and or or. It only takes one expression, and is True if the expression is False, and False if the expression is True. Confused? Try it out!"
   ]
  },
  {
   "cell_type": "code",
   "execution_count": null,
   "metadata": {
    "collapsed": false
   },
   "outputs": [],
   "source": [
    "11 == 4 + 5 and 11 > 10"
   ]
  },
  {
   "cell_type": "code",
   "execution_count": null,
   "metadata": {
    "collapsed": false
   },
   "outputs": [],
   "source": [
    "10 > 12 or 5 == 2 + 3"
   ]
  },
  {
   "cell_type": "code",
   "execution_count": null,
   "metadata": {
    "collapsed": false
   },
   "outputs": [],
   "source": [
    "not 10 < 11"
   ]
  },
  {
   "cell_type": "code",
   "execution_count": null,
   "metadata": {
    "collapsed": false
   },
   "outputs": [],
   "source": [
    "3 > 4 or 5 == 6 or True"
   ]
  },
  {
   "cell_type": "code",
   "execution_count": null,
   "metadata": {
    "collapsed": false
   },
   "outputs": [],
   "source": [
    "not (5 + 2 == 7 and 12 <= 15)"
   ]
  },
  {
   "cell_type": "markdown",
   "metadata": {},
   "source": [
    "Notice the parenthesis? They work the same way as in math - you evaluate the expressions inside the parenthesis first, then follow order of operations. By the way, the order of operations is \n",
    "not first\n",
    "and second\n",
    "or last\n",
    "Remember all that? Try evaluating these. Come up with an answer first, then check it with the interpreter."
   ]
  },
  {
   "cell_type": "code",
   "execution_count": null,
   "metadata": {
    "collapsed": false
   },
   "outputs": [],
   "source": [
    "True or True and False"
   ]
  },
  {
   "cell_type": "code",
   "execution_count": null,
   "metadata": {
    "collapsed": false
   },
   "outputs": [],
   "source": [
    "not True and True or False"
   ]
  },
  {
   "cell_type": "code",
   "execution_count": null,
   "metadata": {
    "collapsed": false
   },
   "outputs": [],
   "source": [
    "not (((True and False) or (True or False)) and True)"
   ]
  },
  {
   "cell_type": "code",
   "execution_count": null,
   "metadata": {
    "collapsed": true
   },
   "outputs": [],
   "source": [
    "# Write your own expression!\n"
   ]
  },
  {
   "cell_type": "markdown",
   "metadata": {},
   "source": [
    "There are two extra topics you can consider. In Python, things that are not boolean expressions have a “truthiness” value. When you put something “truthy” in a boolean operator, it acts like True. Similarly, something “falsy” acts like a False. \n",
    "For example, 1 is a truthy value, and 0 is a falsy value."
   ]
  },
  {
   "cell_type": "code",
   "execution_count": null,
   "metadata": {
    "collapsed": false
   },
   "outputs": [],
   "source": [
    "1 and True"
   ]
  },
  {
   "cell_type": "code",
   "execution_count": null,
   "metadata": {
    "collapsed": false
   },
   "outputs": [],
   "source": [
    "0 or False"
   ]
  },
  {
   "cell_type": "code",
   "execution_count": null,
   "metadata": {
    "collapsed": false
   },
   "outputs": [],
   "source": [
    "1 or 0"
   ]
  },
  {
   "cell_type": "markdown",
   "metadata": {},
   "source": [
    "Notice that the last one returns 0, not False. That’s caused by Python being lazy, or short-circuiting. It’s an interesting topic - if you’re curious, look it up! Be careful though, it’s not the same as your phone short-circuiting when you drop it in the pool. "
   ]
  },
  {
   "cell_type": "markdown",
   "metadata": {},
   "source": [
    "# Control Flow\n",
    "\n",
    "## Introduction\n",
    "\n",
    "Control Flows are ways for the computer to navigate through your code by reacting to certain conditions. Without proper control flow, it would be impossible to program a self-driving car or land a rocket.\n",
    "\n",
    "There are many types of fancy control flow code, but the most important ones are if...else statements and for/while loops. These names are pretty descriptive in terms of what they do."
   ]
  },
  {
   "cell_type": "markdown",
   "metadata": {},
   "source": [
    "## Example\n",
    "\n",
    "If it's raining outside, I should pack an umbrella for class. However if it's sunny, there's no reason to carry one. How would we program a robot to do this?\n"
   ]
  },
  {
   "cell_type": "code",
   "execution_count": null,
   "metadata": {
    "collapsed": false
   },
   "outputs": [],
   "source": [
    "outside = \"raining\"\n",
    "print(outside == \"raining\")\n",
    "if(outside == \"raining\"):\n",
    "    print(\"I'm bringing an umbrella!\")\n",
    "else:\n",
    "    print(\"I'm not bringing an umbrella.\")"
   ]
  },
  {
   "cell_type": "markdown",
   "metadata": {},
   "source": [
    "Try changing 'outside' to something else and observe what happens."
   ]
  },
  {
   "cell_type": "markdown",
   "metadata": {},
   "source": [
    "How do we approach an if...else statement? Let's first look at what's located between the parenthesis. Evaluating outside == \"raining\" returns True. Because the if-statement is true, we now read the line of code between the if and else. If it was sunny outside, then outside == \"raining\" is false, so we go to everything after else. "
   ]
  },
  {
   "cell_type": "markdown",
   "metadata": {},
   "source": [
    "## Example\n",
    "\n",
    "I have an alarm clock that goes off every 10 minute starting at 7:00 AM. However I keep snoozing until 7:30 AM. How can we model my behavior using code?"
   ]
  },
  {
   "cell_type": "code",
   "execution_count": null,
   "metadata": {
    "collapsed": false
   },
   "outputs": [],
   "source": [
    "time = 0;\n",
    "while(time <= 30):\n",
    "    print(\"Alarm rings \"+str(time)+\" minute(s) after 7 AM\")\n",
    "    time = time + 10\n",
    "print(\"Time to get up for real\")"
   ]
  },
  {
   "cell_type": "markdown",
   "metadata": {},
   "source": [
    "We keep executing things in the while loop until the condition is false. In this case, we keep executing until time is greater than or equal to 30.\n",
    "\n",
    "You'll notice that control flows are structured very similarly to English. We could read the if-else statement as \"if outside is raining, bring an umbrella, else don't bring one.\" Similarly for the while loop, \"while time is less than or equal to 30, sound the alarm. "
   ]
  },
  {
   "cell_type": "markdown",
   "metadata": {
    "collapsed": true
   },
   "source": [
    "# Functions\n",
    "\n",
    "Sometimes we want to do the same type of operation many times. In these cases, it's practical to write one block of code that we can call whenever we want, with different parameters even. These are called functions, and there are several ways to define and use them. Look below for a couple examples."
   ]
  },
  {
   "cell_type": "code",
   "execution_count": null,
   "metadata": {
    "collapsed": true
   },
   "outputs": [],
   "source": [
    "# functions are declared by stating 'def ' + the name of the function + (the arguments we choose to pass in):\n",
    "def happy_birthday(name):\n",
    "    print(\"Happy birthday \" + name + \"!\")"
   ]
  },
  {
   "cell_type": "code",
   "execution_count": null,
   "metadata": {
    "collapsed": false
   },
   "outputs": [],
   "source": [
    "my_name = \"__\" ## Fill in your own name"
   ]
  },
  {
   "cell_type": "code",
   "execution_count": null,
   "metadata": {
    "collapsed": false
   },
   "outputs": [],
   "source": [
    "happy_birthday(my_name)"
   ]
  },
  {
   "cell_type": "code",
   "execution_count": null,
   "metadata": {
    "collapsed": true
   },
   "outputs": [],
   "source": [
    "from datetime import date\n",
    "\n",
    "def cur_date():\n",
    "    return date.today()"
   ]
  },
  {
   "cell_type": "code",
   "execution_count": null,
   "metadata": {
    "collapsed": false
   },
   "outputs": [],
   "source": [
    "current_date = cur_date() # Calls our function above, which returns back today's date\n",
    "print(current_date) # Prints out the date our function returned"
   ]
  },
  {
   "cell_type": "markdown",
   "metadata": {},
   "source": [
    "As you can see, we can pass arguments into our functions and interact with them. Our functions can even return a value that the callee (the person who called our function) can use. In our example the callee called a function to save today's date in a variable, and then printed it out."
   ]
  },
  {
   "cell_type": "markdown",
   "metadata": {},
   "source": [
    "### Task:\n",
    "Write a function below that computes the geometric mean of x and y. Remember that the geometric mean of two numbers is $\\sqrt{xy}$. Play with the testing code to verify that your function works are you would expect it to."
   ]
  },
  {
   "cell_type": "code",
   "execution_count": null,
   "metadata": {
    "collapsed": false
   },
   "outputs": [],
   "source": [
    "from math import sqrt # Consider using the sqrt function (look up what it does by looking up 'Python sqrt')\n",
    "\n",
    "def geometric_mean(x, y):\n",
    "    # Compute the geometric mean here\n",
    "    \n",
    "    return \"_____\"\n"
   ]
  },
  {
   "cell_type": "code",
   "execution_count": null,
   "metadata": {
    "collapsed": true
   },
   "outputs": [],
   "source": [
    "x, y = 2, 3"
   ]
  },
  {
   "cell_type": "code",
   "execution_count": null,
   "metadata": {
    "collapsed": false
   },
   "outputs": [],
   "source": [
    "geometric_mean(x, y)"
   ]
  },
  {
   "cell_type": "markdown",
   "metadata": {},
   "source": [
    "## Recursion\n",
    "\n",
    "One important technique in computer science is recursion. A recursive algorithm is one that calls itself multiple times before terminating. This often allows us to write elegant and concise solutions to otherwise complex and messy problems.\n",
    "\n",
    "The classic example of recursion is to compute the Fibonacci sequence $f_n$ where $f_0 = 0$, $f_1 = 1$, and $f_n = f_{n-1} + f_{n-2}$ for $n \\geq 2$.\n",
    "\n",
    "We have included two different ways of computing the n-th Fibonacci number. Try to figure out how they work, and determine which one is using a recursive algorithm. \n",
    "\n",
    "Note: our simple recursive implementation isn't really very good as it is. This is clear if you try to compute the Fibonacci number for somewhat large values of n. For an extra challenge, try to fix it to make it run just as fast as the other implementation. (Hint: look up 'Python dictionary' and try to use the memo variable defined below)"
   ]
  },
  {
   "cell_type": "code",
   "execution_count": null,
   "metadata": {
    "collapsed": true
   },
   "outputs": [],
   "source": [
    "memo = {} # For the challenge\n",
    "def fib1(n):\n",
    "    if n <= 1:\n",
    "        return n\n",
    "    return fib1(n-1) + fib1(n-2)\n",
    "\n",
    "def fib2(n):\n",
    "    if n <= 1:\n",
    "        return n\n",
    "    else:\n",
    "        fn_2, fn_1, fn = 0, 1, 1\n",
    "        i = 2\n",
    "        while i < n:\n",
    "            fn_2, fn_1 = fn_1, fn\n",
    "            fn = fn_1 + fn_2\n",
    "            i += 1\n",
    "        return fn"
   ]
  },
  {
   "cell_type": "code",
   "execution_count": null,
   "metadata": {
    "collapsed": false
   },
   "outputs": [],
   "source": [
    "fib2(50)"
   ]
  },
  {
   "cell_type": "code",
   "execution_count": null,
   "metadata": {
    "collapsed": false
   },
   "outputs": [],
   "source": [
    "fib1(5)"
   ]
  },
  {
   "cell_type": "code",
   "execution_count": null,
   "metadata": {
    "collapsed": true
   },
   "outputs": [],
   "source": [
    "n = 10"
   ]
  },
  {
   "cell_type": "code",
   "execution_count": null,
   "metadata": {
    "collapsed": false
   },
   "outputs": [],
   "source": [
    "fib2(n)"
   ]
  },
  {
   "cell_type": "code",
   "execution_count": null,
   "metadata": {
    "collapsed": false
   },
   "outputs": [],
   "source": [
    "fib1(n)"
   ]
  },
  {
   "cell_type": "markdown",
   "metadata": {},
   "source": [
    "## Task\n",
    "\n",
    "Implement the factorial function below recursively and verify that it works correctly by comparing it to our (iterative) implementation."
   ]
  },
  {
   "cell_type": "code",
   "execution_count": null,
   "metadata": {
    "collapsed": true
   },
   "outputs": [],
   "source": [
    "import sys\n",
    "sys.setrecursionlimit(100000)\n",
    "def factorial_recursive(n):\n",
    "    # Compute n! recursively\n",
    "    return \"___\"\n",
    "\n",
    "def factorial_iterative(n):\n",
    "    n_fact, i = 1, 1\n",
    "    while i <= n:\n",
    "        n_fact = n_fact * i\n",
    "        i += 1\n",
    "    return n_fact"
   ]
  },
  {
   "cell_type": "code",
   "execution_count": null,
   "metadata": {
    "collapsed": false
   },
   "outputs": [],
   "source": [
    "n = 50\n",
    "print(factorial_iterative(n))"
   ]
  },
  {
   "cell_type": "code",
   "execution_count": null,
   "metadata": {
    "collapsed": false
   },
   "outputs": [],
   "source": [
    "print(factorial_recursive(n))"
   ]
  },
  {
   "cell_type": "markdown",
   "metadata": {},
   "source": [
    "## Task\n",
    "\n",
    "A geometric series is a series whose first element is some number a; each element is equal to the previous element multiplied by some other number r. For example, the series '1, 1/2, 1/4, 1/8, ...' is a geometric series with the first element a=1 and ratio r=1/2\n",
    "\n",
    "Implement the function geometric_sum so that it takes three numbers, the first element a, the ratio r and number of elements n, and calculates the sum of the first n elements of the geometric series."
   ]
  },
  {
   "cell_type": "code",
   "execution_count": 3,
   "metadata": {
    "collapsed": true
   },
   "outputs": [],
   "source": [
    "import sys\n",
    "sys.setrecursionlimit(100000)\n",
    "def geometric_series(a, r, n): \n",
    "    \"\"\"Returns the sum of the first N elements of the geometric sequence that begins with A and has a ratio of R\n",
    "    >>>geometric_sum(1, 1/2, 4) #1 + 1/2 + 1/4 + 1/8\n",
    "    1.875\n",
    "    >>>geometric_sum(3,2,3) #3+2*3+4*3 = 3+6+12=21\n",
    "    21\n",
    "    \"\"\"\n",
    "    if n==1: \n",
    "      return \"______\"\n",
    "    else: \n",
    "      return \"______\""
   ]
  },
  {
   "cell_type": "code",
   "execution_count": 4,
   "metadata": {
    "collapsed": false
   },
   "outputs": [
    {
     "data": {
      "text/plain": [
       "'______'"
      ]
     },
     "execution_count": 4,
     "metadata": {},
     "output_type": "execute_result"
    }
   ],
   "source": [
    "geometric_series(1, 0.5, 10000) # Change these numbers to verify your code works correctly"
   ]
  },
  {
   "cell_type": "code",
   "execution_count": 9,
   "metadata": {
    "collapsed": false
   },
   "outputs": [
    {
     "data": {
      "image/png": "[encoded data removed]",
      "text/plain": [
       "<matplotlib.figure.Figure at 0x7fc1e9c7b2d0>"
      ]
     },
     "metadata": {},
     "output_type": "display_data"
    }
   ],
   "source": [
    "%matplotlib inline\n",
    "import matplotlib.pyplot as plt\n",
    "\n",
    "# Compute the first n elements in the geometric sequence\n",
    "a, r, n = 1, 0.5, 100\n",
    "lst = []\n",
    "for i in range(1, n):\n",
    "    lst.append(geometric_series(a, r, i))\n",
    "    \n",
    "# Plotting code\n",
    "plt.plot(lst)\n",
    "axes = plt.gca()\n",
    "axes.set_ylim([min(lst)-1 ,max(lst)+1])\n",
    "plt.show()"
   ]
  },
  {
   "cell_type": "markdown",
   "metadata": {
    "collapsed": true
   },
   "source": [
    "## Drawing\n",
    "\n",
    "Insert drawing stuff here"
   ]
  },
  {
   "cell_type": "code",
   "execution_count": null,
   "metadata": {
    "collapsed": true
   },
   "outputs": [],
   "source": []
  },
  {
   "cell_type": "code",
   "execution_count": null,
   "metadata": {
    "collapsed": true
   },
   "outputs": [],
   "source": []
  }
 ],
 "metadata": {
  "kernelspec": {
   "display_name": "Python 3",
   "language": "python",
   "name": "python3"
  },
  "language_info": {
   "codemirror_mode": {
    "name": "ipython",
    "version": 3
   },
   "file_extension": ".py",
   "mimetype": "text/x-python",
   "name": "python",
   "nbconvert_exporter": "python",
   "pygments_lexer": "ipython3",
   "version": "3.5.1"
  }
 },
 "nbformat": 4,
 "nbformat_minor": 0
}
