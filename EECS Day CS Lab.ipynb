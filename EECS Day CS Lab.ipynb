{
 "cells": [
  {
   "cell_type": "markdown",
   "metadata": {},
   "source": [
    "# EECS Day CS Lab\n"
   ]
  },
  {
   "cell_type": "markdown",
   "metadata": {
    "collapsed": true
   },
   "source": [
    "Welcome to EECS Day! Today you'll have the chance to take part in a sample Computer Science lab to get an idea of what CS is about and what can be accomplished with a little bit of code. The language we'll be working with is called Python, and it is the language that the introductory CS course is taught in at UC Berkeley. Don't worry if you haven't had the chance to write your own code yet; we'll start with the basics."
   ]
  },
  {
   "cell_type": "markdown",
   "metadata": {},
   "source": [
    "The environment we'll be working with is called an IPython Notebook. In this interface, we can embed both blocks of code and and text and graphically interact with our code. To run a block of code, press 'Shift-Enter'. Try this on the following block of code."
   ]
  },
  {
   "cell_type": "code",
   "execution_count": null,
   "metadata": {
    "collapsed": false
   },
   "outputs": [],
   "source": [
    "print(\"Hello World!\")"
   ]
  },
  {
   "cell_type": "markdown",
   "metadata": {},
   "source": [
    "Congratulations, you just ran your first line of Python code! It should have printed out the words \"Hello World!\""
   ]
  },
  {
   "cell_type": "markdown",
   "metadata": {},
   "source": [
    "You can also use Python to perform arithmetic. Try running the blocks of code below and identifying what is happening."
   ]
  },
  {
   "cell_type": "code",
   "execution_count": null,
   "metadata": {
    "collapsed": false
   },
   "outputs": [],
   "source": [
    "1+1"
   ]
  },
  {
   "cell_type": "code",
   "execution_count": null,
   "metadata": {
    "collapsed": false
   },
   "outputs": [],
   "source": [
    "3*2"
   ]
  },
  {
   "cell_type": "code",
   "execution_count": null,
   "metadata": {
    "collapsed": false
   },
   "outputs": [],
   "source": [
    "3**2 # 3^2"
   ]
  },
  {
   "cell_type": "code",
   "execution_count": null,
   "metadata": {
    "collapsed": false
   },
   "outputs": [],
   "source": [
    "2**16"
   ]
  },
  {
   "cell_type": "code",
   "execution_count": null,
   "metadata": {
    "collapsed": false
   },
   "outputs": [],
   "source": [
    "((2**3 + 5) - 5) * 3"
   ]
  },
  {
   "cell_type": "markdown",
   "metadata": {},
   "source": [
    "## Intro to Variables, Assignment, Strings, Integers\n"
   ]
  },
  {
   "cell_type": "markdown",
   "metadata": {},
   "source": [
    "All applications, games, search engines use and store different types of data in Variables.  A Variable stores a piece of data, and gives it a specific name. For example:"
   ]
  },
  {
   "cell_type": "markdown",
   "metadata": {},
   "source": [
    "The following code creates and assigns the Variable my_name to ”Oski” and the Variables my_age to 147 and the Variables my_major to ‘EECS’"
   ]
  },
  {
   "cell_type": "code",
   "execution_count": null,
   "metadata": {
    "collapsed": false
   },
   "outputs": [],
   "source": [
    "my_name = \"Oski\"\n",
    "age = 147\n",
    "my_major = \"EECS\"\n",
    "print(my_name)\n",
    "print(age)\n",
    "print(my_major)"
   ]
  },
  {
   "cell_type": "markdown",
   "metadata": {},
   "source": [
    "Notice how Oski is in quotes while 147 is not. This is because in the Python syntax, Strings must be surrounded with quote, to differentiate them from other Integers and Variables. A String is essentially a sequence of alphanumeric characters."
   ]
  },
  {
   "cell_type": "markdown",
   "metadata": {},
   "source": [
    "Once we assign values to Variables, we can call the Variables and it will give us its value back."
   ]
  },
  {
   "cell_type": "code",
   "execution_count": null,
   "metadata": {
    "collapsed": false
   },
   "outputs": [],
   "source": [
    "my_name"
   ]
  },
  {
   "cell_type": "code",
   "execution_count": null,
   "metadata": {
    "collapsed": false
   },
   "outputs": [],
   "source": [
    "age"
   ]
  },
  {
   "cell_type": "code",
   "execution_count": null,
   "metadata": {
    "collapsed": false
   },
   "outputs": [],
   "source": [
    "my_major"
   ]
  },
  {
   "cell_type": "markdown",
   "metadata": {},
   "source": [
    "We can also re-assign the Variables to a different value and also the values of other Variables!"
   ]
  },
  {
   "cell_type": "code",
   "execution_count": null,
   "metadata": {
    "collapsed": false
   },
   "outputs": [],
   "source": [
    "my_name = \"Berkeley\"\n",
    "print(\"My name before: \" + my_name)\n",
    "my_name = my_major\n",
    "print(\"My name after: \" + my_name)\n",
    "print(\"My major: \" + my_major)"
   ]
  },
  {
   "cell_type": "markdown",
   "metadata": {},
   "source": [
    "Notice how my_major is still ‘EECS’ because we never changed it! Also note, we can combine strings together by using the '+' operator."
   ]
  },
  {
   "cell_type": "markdown",
   "metadata": {},
   "source": [
    "## Booleans\n",
    "There are other types of variables besides words and numbers. What about a statement, like “Blue Whales are the heaviest mammals?” This statement has only two possibilities - it is True, or it is False. Statements that \n",
    "are either true or false, with no in-betweens, are called Boolean expressions.\n",
    "\n",
    "Here are a few examples of expressions in Python that evaluate to True or False:"
   ]
  },
  {
   "cell_type": "code",
   "execution_count": null,
   "metadata": {
    "collapsed": false
   },
   "outputs": [],
   "source": [
    "print(1==0)"
   ]
  },
  {
   "cell_type": "code",
   "execution_count": null,
   "metadata": {
    "collapsed": false
   },
   "outputs": [],
   "source": [
    "print(0==True)"
   ]
  },
  {
   "cell_type": "code",
   "execution_count": null,
   "metadata": {
    "collapsed": false
   },
   "outputs": [],
   "source": [
    "print(0==False)"
   ]
  },
  {
   "cell_type": "code",
   "execution_count": null,
   "metadata": {
    "collapsed": false
   },
   "outputs": [],
   "source": [
    "print(1>-2)"
   ]
  },
  {
   "cell_type": "code",
   "execution_count": null,
   "metadata": {
    "collapsed": false
   },
   "outputs": [],
   "source": [
    "print(3*3>=8)"
   ]
  },
  {
   "cell_type": "code",
   "execution_count": null,
   "metadata": {
    "collapsed": false
   },
   "outputs": [],
   "source": [
    "print(True)"
   ]
  },
  {
   "cell_type": "markdown",
   "metadata": {},
   "source": [
    "### Boolean Operators\n",
    "\n",
    "There’s one more thing to learn about booleans. How do you check if two expressions are both true? How do you check one function or the other? How do you check if an expression is false?\n",
    "\n",
    "You and your friend are going to Memorial Glade for a picnic. You only want to go if it’s sunny and the temperature is over 70 degrees. If you were asking your friend, the question could be phrased “Is it warm and sunny?” Asking the computer is the same - just use and between two expressions. \n"
   ]
  },
  {
   "cell_type": "markdown",
   "metadata": {},
   "source": [
    "and is called a boolean operator. It works just like the mathematical operators ( + - * / ) you are used to. Put them between two expressions, and get one back. There are two more operators in Python, called or and not. or is True if the first expression or the second expression is True. not doesn’t work like and or or. It only takes one expression, and is True if the expression is False, and False if the expression is True. Confused? Try it out!"
   ]
  },
  {
   "cell_type": "code",
   "execution_count": null,
   "metadata": {
    "collapsed": false
   },
   "outputs": [],
   "source": [
    "11 == 4 + 5 and 11 > 10"
   ]
  },
  {
   "cell_type": "code",
   "execution_count": null,
   "metadata": {
    "collapsed": false
   },
   "outputs": [],
   "source": [
    "10 > 12 or 5 == 2 + 3"
   ]
  },
  {
   "cell_type": "code",
   "execution_count": null,
   "metadata": {
    "collapsed": false
   },
   "outputs": [],
   "source": [
    "not 10 < 11"
   ]
  },
  {
   "cell_type": "code",
   "execution_count": null,
   "metadata": {
    "collapsed": false
   },
   "outputs": [],
   "source": [
    "3 > 4 or 5 == 6 or True"
   ]
  },
  {
   "cell_type": "code",
   "execution_count": null,
   "metadata": {
    "collapsed": false
   },
   "outputs": [],
   "source": [
    "not (5 + 2 == 7 and 12 <= 15)"
   ]
  },
  {
   "cell_type": "markdown",
   "metadata": {},
   "source": [
    "Notice the parenthesis? They work the same way as in math - you evaluate the expressions inside the parenthesis first, then follow order of operations. By the way, the order of operations is \n",
    "not first\n",
    "and second\n",
    "or last\n",
    "Remember all that? Try evaluating these. Come up with an answer first, then check it with the interpreter."
   ]
  },
  {
   "cell_type": "code",
   "execution_count": null,
   "metadata": {
    "collapsed": false
   },
   "outputs": [],
   "source": [
    "True or True and False"
   ]
  },
  {
   "cell_type": "code",
   "execution_count": null,
   "metadata": {
    "collapsed": false
   },
   "outputs": [],
   "source": [
    "not True and True or False"
   ]
  },
  {
   "cell_type": "code",
   "execution_count": null,
   "metadata": {
    "collapsed": false
   },
   "outputs": [],
   "source": [
    "not (((True and False) or (True or False)) and True)"
   ]
  },
  {
   "cell_type": "code",
   "execution_count": null,
   "metadata": {
    "collapsed": true
   },
   "outputs": [],
   "source": [
    "# Write your own expression!\n"
   ]
  },
  {
   "cell_type": "markdown",
   "metadata": {},
   "source": [
    "There are two extra topics you can consider. In Python, things that are not boolean expressions have a “truthiness” value. When you put something “truthy” in a boolean operator, it acts like True. Similarly, something “falsy” acts like a False. \n",
    "For example, 1 is a truthy value, and 0 is a falsy value."
   ]
  },
  {
   "cell_type": "code",
   "execution_count": null,
   "metadata": {
    "collapsed": false
   },
   "outputs": [],
   "source": [
    "1 and True"
   ]
  },
  {
   "cell_type": "code",
   "execution_count": null,
   "metadata": {
    "collapsed": false
   },
   "outputs": [],
   "source": [
    "0 or False"
   ]
  },
  {
   "cell_type": "code",
   "execution_count": null,
   "metadata": {
    "collapsed": false
   },
   "outputs": [],
   "source": [
    "1 or 0"
   ]
  },
  {
   "cell_type": "markdown",
   "metadata": {},
   "source": [
    "Notice that the last one returns 0, not False. That’s caused by Python being lazy, or short-circuiting. It’s an interesting topic - if you’re curious, look it up! Be careful though, it’s not the same as your phone short-circuiting when you drop it in the pool. "
   ]
  },
  {
   "cell_type": "markdown",
   "metadata": {},
   "source": [
    "# Control Flow\n",
    "\n",
    "## Introduction\n",
    "\n",
    "Control Flows are ways for the computer to navigate through your code by reacting to certain conditions. Without proper control flow, it would be impossible to program a self-driving car or land a rocket.\n",
    "\n",
    "There are many types of fancy control flow code, but the most important ones are if...else statements and for/while loops. These names are pretty descriptive in terms of what they do."
   ]
  },
  {
   "cell_type": "markdown",
   "metadata": {},
   "source": [
    "## Example\n",
    "\n",
    "If it's raining outside, I should pack an umbrella for class. However if it's sunny, there's no reason to carry one. How would we program a robot to do this?\n"
   ]
  },
  {
   "cell_type": "code",
   "execution_count": null,
   "metadata": {
    "collapsed": false
   },
   "outputs": [],
   "source": [
    "outside = \"raining\"\n",
    "print(outside == \"raining\")\n",
    "if(outside == \"raining\"):\n",
    "    print(\"I'm bringing an umbrella!\")\n",
    "else:\n",
    "    print(\"I'm not bringing an umbrella.\")"
   ]
  },
  {
   "cell_type": "markdown",
   "metadata": {},
   "source": [
    "Try changing 'outside' to something else and observe what happens."
   ]
  },
  {
   "cell_type": "markdown",
   "metadata": {},
   "source": [
    "How do we approach an if...else statement? Let's first look at what's located between the parenthesis. Evaluating outside == \"raining\" returns True. Because the if-statement is true, we now read the line of code between the if and else. If it was sunny outside, then outside == \"raining\" is false, so we go to everything after else. "
   ]
  },
  {
   "cell_type": "markdown",
   "metadata": {},
   "source": [
    "## Example\n",
    "\n",
    "I have an alarm clock that goes off every 10 minute starting at 7:00 AM. However I keep snoozing until 7:30 AM. How can we model my behavior using code?"
   ]
  },
  {
   "cell_type": "code",
   "execution_count": null,
   "metadata": {
    "collapsed": false
   },
   "outputs": [],
   "source": [
    "time = 0;\n",
    "while(time <= 30):\n",
    "    print(\"Alarm rings \"+str(time)+\" minute(s) after 7 AM\")\n",
    "    time = time + 10\n",
    "print(\"Time to get up for real\")"
   ]
  },
  {
   "cell_type": "markdown",
   "metadata": {},
   "source": [
    "We keep executing things in the while loop until the condition is false. In this case, we keep executing until time is greater than or equal to 30.\n",
    "\n",
    "You'll notice that control flows are structured very similarly to English. We could read the if-else statement as \"if outside is raining, bring an umbrella, else don't bring one.\" Similarly for the while loop, \"while time is less than or equal to 30, sound the alarm. "
   ]
  },
  {
   "cell_type": "markdown",
   "metadata": {
    "collapsed": true
   },
   "source": [
    "# Functions\n",
    "\n",
    "Sometimes we want to do the same type of operation many times. In these cases, it's practical to write one block of code that we can call whenever we want, with different parameters even. These are called functions, and there are several ways to define and use them. Look below for a couple examples."
   ]
  },
  {
   "cell_type": "code",
   "execution_count": null,
   "metadata": {
    "collapsed": true
   },
   "outputs": [],
   "source": [
    "# functions are declared by stating 'def ' + the name of the function + (the arguments we choose to pass in):\n",
    "def happy_birthday(name):\n",
    "    print(\"Happy birthday \" + name + \"!\")"
   ]
  },
  {
   "cell_type": "code",
   "execution_count": null,
   "metadata": {
    "collapsed": false
   },
   "outputs": [],
   "source": [
    "my_name = \"__\" ## Fill in your own name"
   ]
  },
  {
   "cell_type": "code",
   "execution_count": null,
   "metadata": {
    "collapsed": false
   },
   "outputs": [],
   "source": [
    "happy_birthday(my_name)"
   ]
  },
  {
   "cell_type": "code",
   "execution_count": null,
   "metadata": {
    "collapsed": true
   },
   "outputs": [],
   "source": [
    "from datetime import date\n",
    "\n",
    "def cur_date():\n",
    "    return date.today()"
   ]
  },
  {
   "cell_type": "code",
   "execution_count": null,
   "metadata": {
    "collapsed": false
   },
   "outputs": [],
   "source": [
    "current_date = cur_date() # Calls our function above, which returns back today's date\n",
    "print(current_date) # Prints out the date our function returned"
   ]
  },
  {
   "cell_type": "markdown",
   "metadata": {},
   "source": [
    "As you can see, we can pass arguments into our functions and interact with them. Our functions can even return a value that the callee (the person who called our function) can use. In our example the callee called a function to save today's date in a variable, and then printed it out."
   ]
  },
  {
   "cell_type": "markdown",
   "metadata": {},
   "source": [
    "### Task:\n",
    "Write a function below that computes the geometric mean of x and y. Remember that the geometric mean of two numbers is $\\sqrt{xy}$. Play with the testing code to verify that your function works are you would expect it to."
   ]
  },
  {
   "cell_type": "code",
   "execution_count": null,
   "metadata": {
    "collapsed": false
   },
   "outputs": [],
   "source": [
    "from math import sqrt # Consider using the sqrt function (look up what it does by looking up 'Python sqrt')\n",
    "\n",
    "def geometric_mean(x, y):\n",
    "    # Compute the geometric mean here\n",
    "    \n",
    "    return \"_____\"\n"
   ]
  },
  {
   "cell_type": "code",
   "execution_count": null,
   "metadata": {
    "collapsed": true
   },
   "outputs": [],
   "source": [
    "x, y = 2, 3"
   ]
  },
  {
   "cell_type": "code",
   "execution_count": null,
   "metadata": {
    "collapsed": false
   },
   "outputs": [],
   "source": [
    "geometric_mean(x, y)"
   ]
  },
  {
   "cell_type": "markdown",
   "metadata": {},
   "source": [
    "## Recursion\n",
    "\n",
    "One important technique in computer science is recursion. A recursive algorithm is one that calls itself multiple times before terminating. This often allows us to write elegant and concise solutions to otherwise complex and messy problems.\n",
    "\n",
    "The classic example of recursion is to compute the Fibonacci sequence $f_n$ where $f_0 = 0$, $f_1 = 1$, and $f_n = f_{n-1} + f_{n-2}$ for $n \\geq 2$.\n",
    "\n",
    "We have included two different ways of computing the n-th Fibonacci number. Try to figure out how they work, and determine which one is using a recursive algorithm. \n",
    "\n",
    "Note: our simple recursive implementation isn't really very good as it is. This is clear if you try to compute the Fibonacci number for somewhat large values of n. For an extra challenge, try to fix it to make it run just as fast as the other implementation. (Hint: look up 'Python dictionary' and try to use the memo variable defined below)"
   ]
  },
  {
   "cell_type": "code",
   "execution_count": null,
   "metadata": {
    "collapsed": true
   },
   "outputs": [],
   "source": [
    "memo = {} # For the challenge\n",
    "def fib1(n):\n",
    "    if n <= 1:\n",
    "        return n\n",
    "    return fib1(n-1) + fib1(n-2)\n",
    "\n",
    "def fib2(n):\n",
    "    if n <= 1:\n",
    "        return n\n",
    "    else:\n",
    "        fn_2, fn_1, fn = 0, 1, 1\n",
    "        i = 2\n",
    "        while i < n:\n",
    "            fn_2, fn_1 = fn_1, fn\n",
    "            fn = fn_1 + fn_2\n",
    "            i += 1\n",
    "        return fn"
   ]
  },
  {
   "cell_type": "code",
   "execution_count": null,
   "metadata": {
    "collapsed": false
   },
   "outputs": [],
   "source": [
    "fib2(50)"
   ]
  },
  {
   "cell_type": "code",
   "execution_count": null,
   "metadata": {
    "collapsed": false
   },
   "outputs": [],
   "source": [
    "fib1(5)"
   ]
  },
  {
   "cell_type": "code",
   "execution_count": null,
   "metadata": {
    "collapsed": true
   },
   "outputs": [],
   "source": [
    "n = 10"
   ]
  },
  {
   "cell_type": "code",
   "execution_count": null,
   "metadata": {
    "collapsed": false
   },
   "outputs": [],
   "source": [
    "fib2(n)"
   ]
  },
  {
   "cell_type": "code",
   "execution_count": null,
   "metadata": {
    "collapsed": false
   },
   "outputs": [],
   "source": [
    "fib1(n)"
   ]
  },
  {
   "cell_type": "markdown",
   "metadata": {},
   "source": [
    "## Task\n",
    "\n",
    "Implement the factorial function below recursively and verify that it works correctly by comparing it to our (iterative) implementation."
   ]
  },
  {
   "cell_type": "code",
   "execution_count": null,
   "metadata": {
    "collapsed": true
   },
   "outputs": [],
   "source": [
    "import sys\n",
    "sys.setrecursionlimit(100000)\n",
    "def factorial_recursive(n):\n",
    "    # Compute n! recursively\n",
    "    return \"___\"\n",
    "\n",
    "def factorial_iterative(n):\n",
    "    n_fact, i = 1, 1\n",
    "    while i <= n:\n",
    "        n_fact = n_fact * i\n",
    "        i += 1\n",
    "    return n_fact"
   ]
  },
  {
   "cell_type": "code",
   "execution_count": null,
   "metadata": {
    "collapsed": false
   },
   "outputs": [],
   "source": [
    "n = 50\n",
    "print(factorial_iterative(n))"
   ]
  },
  {
   "cell_type": "code",
   "execution_count": null,
   "metadata": {
    "collapsed": false
   },
   "outputs": [],
   "source": [
    "print(factorial_recursive(n))"
   ]
  },
  {
   "cell_type": "markdown",
   "metadata": {},
   "source": [
    "## Task\n",
    "\n",
    "A geometric series is a series whose first element is some number a; each element is equal to the previous element multiplied by some other number r. For example, the series '1, 1/2, 1/4, 1/8, ...' is a geometric series with the first element a=1 and ratio r=1/2\n",
    "\n",
    "Implement the function geometric_sum so that it takes three numbers, the first element a, the ratio r and number of elements n, and calculates the sum of the first n elements of the geometric series."
   ]
  },
  {
   "cell_type": "code",
   "execution_count": 3,
   "metadata": {
    "collapsed": true
   },
   "outputs": [],
   "source": [
    "import sys\n",
    "sys.setrecursionlimit(100000)\n",
    "def geometric_series(a, r, n): \n",
    "    \"\"\"Returns the sum of the first N elements of the geometric sequence that begins with A and has a ratio of R\n",
    "    >>>geometric_sum(1, 1/2, 4) #1 + 1/2 + 1/4 + 1/8\n",
    "    1.875\n",
    "    >>>geometric_sum(3,2,3) #3+2*3+4*3 = 3+6+12=21\n",
    "    21\n",
    "    \"\"\"\n",
    "    if n==1: \n",
    "      return \"______\"\n",
    "    else: \n",
    "      return \"______\""
   ]
  },
  {
   "cell_type": "code",
   "execution_count": 4,
   "metadata": {
    "collapsed": false
   },
   "outputs": [
    {
     "data": {
      "text/plain": [
       "'______'"
      ]
     },
     "execution_count": 4,
     "metadata": {},
     "output_type": "execute_result"
    }
   ],
   "source": [
    "geometric_series(1, 0.5, 10000) # Change these numbers to verify your code works correctly"
   ]
  },
  {
   "cell_type": "code",
   "execution_count": 9,
   "metadata": {
    "collapsed": false
   },
   "outputs": [
    {
     "data": {
      "image/png": "[encoded data removed]",
      "text/plain": [
       "<matplotlib.figure.Figure at 0x7fc1e9c7b2d0>"
      ]
     },
     "metadata": {},
     "output_type": "display_data"
    }
   ],
   "source": [
    "%matplotlib inline\n",
    "import matplotlib.pyplot as plt\n",
    "\n",
    "# Compute the first n elements in the geometric sequence\n",
    "a, r, n = 1, 0.5, 100\n",
    "lst = []\n",
    "for i in range(1, n):\n",
    "    lst.append(geometric_series(a, r, i))\n",
    "    \n",
    "# Plotting code\n",
    "plt.plot(lst)\n",
    "axes = plt.gca()\n",
    "axes.set_ylim([min(lst)-1 ,max(lst)+1])\n",
    "plt.show()"
   ]
  },
  {
   "cell_type": "markdown",
   "metadata": {
    "collapsed": true
   },
   "source": [
    "# Drawing\n",
    "\n",
    "We've build a drawing module for you to experiment with. The drawing commands mimick how someone would draw with a pen on paper. Run this next cell to import these functions"
   ]
  },
  {
   "cell_type": "code",
   "execution_count": 6,
   "metadata": {
    "collapsed": true
   },
   "outputs": [],
   "source": [
    "from drawing import *"
   ]
  },
  {
   "cell_type": "markdown",
   "metadata": {
    "collapsed": true
   },
   "source": [
    "You can create a new image to draw on by calling **new_drawing**, and passing in the size of the image you want to create. Then you can tell the drawing system to put the pen down onto the image by calling **pen_down**. Calling **forward(x)** moves the pen a distance of x in the forward direction (which is up by default). Then we can view the resulting image by calling **show**. Here is an example:"
   ]
  },
  {
   "cell_type": "code",
   "execution_count": 8,
   "metadata": {
    "collapsed": false
   },
   "outputs": [
    {
     "data": {
      "image/png": "[encoded data removed]",
      "text/plain": [
       "<PIL.Image.Image image mode=RGBA size=100x100 at 0x1040B3898>"
      ]
     },
     "metadata": {},
     "output_type": "display_data"
    }
   ],
   "source": [
    "new_drawing(100, 100)  # The size of the new image will be 100x100\n",
    "pen_down()             # Put the pen down on the page\n",
    "forward(20)            # Move the pen forward by a distance 20\n",
    "show()                 # Show the resulting image"
   ]
  },
  {
   "cell_type": "markdown",
   "metadata": {},
   "source": [
    "Try to image how you would draw a line on paper. You would tell your arm to do a similar command sequence (Put pen down, move pen)\n",
    "\n",
    "Now lets try another command. We can rotate the direction the pen moves by calling **turn_right** and **turn_left**. You need to tell it how many degrees to rotate (remember, 90 degrees is a right turn). Also, you can make modifications to your drawing by calling more commands and then calling **show** again. No need to call new_drawing every time!"
   ]
  },
  {
   "cell_type": "code",
   "execution_count": 9,
   "metadata": {
    "collapsed": false
   },
   "outputs": [
    {
     "data": {
      "image/png": "[encoded data removed]",
      "text/plain": [
       "<PIL.Image.Image image mode=RGBA size=100x100 at 0x1040B3898>"
      ]
     },
     "metadata": {},
     "output_type": "display_data"
    }
   ],
   "source": [
    "# Because we didnt call new_drawing, just draw on top of the old drawing\n",
    "turn_right(90)\n",
    "forward(40)\n",
    "show()"
   ]
  },
  {
   "cell_type": "markdown",
   "metadata": {},
   "source": [
    "The next command we will look at is **set_color**. This allows us to change the color of the line that the pen will draw. Think of it like changing the ink of the pen. set_color has 3 parameters, a red value, green value, and blue value (called RGB). All colors can be represented by mixing various amounts of these 3 colors. The values range from 0 to 255, where 0 means none of that color and 255 means maximum of that color. Here is a table of some common colors:\n",
    "\n",
    "| Color  | R | G | B |\n",
    "| ------ |---|---|---|\n",
    "| Red    |255| 0 | 0 |\n",
    "| Green  | 0 |255| 0 |\n",
    "| Blue   | 0 | 0 |255|\n",
    "| Yellow |255|255| 0 |\n",
    "| Orange |255|165| 0 |\n",
    "| Purple |160|32 |240|\n",
    "\n",
    "Draw a few more lines below with a few different colors (we've included one as an example)"
   ]
  },
  {
   "cell_type": "code",
   "execution_count": 10,
   "metadata": {
    "collapsed": false
   },
   "outputs": [
    {
     "data": {
      "image/png": "[encoded data removed]",
      "text/plain": [
       "<PIL.Image.Image image mode=RGBA size=100x100 at 0x1040B3898>"
      ]
     },
     "metadata": {},
     "output_type": "display_data"
    }
   ],
   "source": [
    "turn_right(135)\n",
    "set_color(0, 0, 255)\n",
    "forward(20)\n",
    "show()"
   ]
  },
  {
   "cell_type": "markdown",
   "metadata": {},
   "source": [
    "It is also sometimes useful to know what color the pen currently has. You can call **get_color** to return the R, G, and B values."
   ]
  },
  {
   "cell_type": "code",
   "execution_count": 11,
   "metadata": {
    "collapsed": false
   },
   "outputs": [
    {
     "name": "stdout",
     "output_type": "stream",
     "text": [
      "0\n",
      "0\n",
      "255\n"
     ]
    }
   ],
   "source": [
    "r, g, b = get_color()\n",
    "print(r)\n",
    "print(g)\n",
    "print(b)"
   ]
  },
  {
   "cell_type": "markdown",
   "metadata": {},
   "source": [
    "## Task\n",
    "\n",
    "Try to draw a box that is Purple, with a width of 200 and a height of 75"
   ]
  },
  {
   "cell_type": "code",
   "execution_count": 18,
   "metadata": {
    "collapsed": true
   },
   "outputs": [],
   "source": [
    "new_drawing(300, 300)\n",
    "# Try drawing the box here"
   ]
  },
  {
   "cell_type": "markdown",
   "metadata": {},
   "source": [
    "Sometimes when we are drawing something we want to pick the pen up and move it. We can do this by calling **pen_up**. Now when we move the pen, it will not draw lines. Lets draw a dashed line using this new command.\n",
    "\n",
    "We will also make the dashed line thicker by using **set_width(w)**. This changes the width of the line that is drawn to **w**."
   ]
  },
  {
   "cell_type": "code",
   "execution_count": 19,
   "metadata": {
    "collapsed": false
   },
   "outputs": [
    {
     "data": {
      "image/png": "[encoded data removed]",
      "text/plain": [
       "<PIL.Image.Image image mode=RGBA size=100x100 at 0x1043CB2E8>"
      ]
     },
     "metadata": {},
     "output_type": "display_data"
    }
   ],
   "source": [
    "new_drawing(100, 100)\n",
    "set_width(5)     # Draw a thicker line by using set_width\n",
    "turn_left(90)\n",
    "forward(50)\n",
    "turn_right(180)\n",
    "pen_down()\n",
    "forward(10)\n",
    "pen_up()         # We are picking the pen up here\n",
    "forward(10)      # Moving the pen\n",
    "pen_down()       # Now the pen is back down, so movements will draw lines\n",
    "forward(10)\n",
    "pen_up()\n",
    "forward(10)\n",
    "pen_down()\n",
    "forward(10)\n",
    "show()"
   ]
  },
  {
   "cell_type": "markdown",
   "metadata": {},
   "source": [
    "These are the basic commands of the pen drawing system. We have included this table so you can remember them easily:\n",
    "\n",
    "| Command  | Description |\n",
    "| ------ ||\n",
    "| new_drawing(w, h) | Creates a new drawing with a width of **w** and a height of **h** |\n",
    "| show() | Show the drawing (make sure you do this after drawing on the new drawing, or it will look blank!) |\n",
    "| pen_down() | Puts the pen down on the image |\n",
    "| pen_up() | Picks the pen up off the image |\n",
    "| forward(x) | Move the pen forward by a distance of **x** (pixels) |\n",
    "| turn_left(d) | Turn the direction the pen will draw by **d** degrees to the left |\n",
    "| turn_right(d) | Turn the direction the pen will draw by **d** degrees to the right |\n",
    "| set_color(r, g, b) | Change the color of the pen to have the colors specified by **r**, **g**, and **b** |\n",
    "| get_color() | Returns the current r, g, and b, values |\n",
    "| set_width(w) | Sets the width of the pen to **w** |\n",
    "\n",
    "You can use the space below to experiment with the commands if you want!"
   ]
  },
  {
   "cell_type": "code",
   "execution_count": 20,
   "metadata": {
    "collapsed": true
   },
   "outputs": [],
   "source": [
    "# Try out some of the commands here, if you have forgotten how they work"
   ]
  },
  {
   "cell_type": "markdown",
   "metadata": {},
   "source": [
    "Now lets use some of these drawing functions with the concepts we learned earlier. We will start with an iterative example. Notice how when we drew the dashed red line earlier we repeated a lot of commands? We could accomplish this same drawing by using a **while loop** like we learned about earlier. We have provided an example below. See if you can modify this code to draw more dashes without adding new lines, only modify an existing line. This is a much more efficient way to draw the dashed line because we can change its behavior by only modifying a small part of the code.\n",
    "\n",
    "(if you modify it to draw more than 10 dashes, try increasing the drawing width to make sure the pen doesn't go off the side of the image)"
   ]
  },
  {
   "cell_type": "code",
   "execution_count": 14,
   "metadata": {
    "collapsed": false
   },
   "outputs": [
    {
     "data": {
      "image/png": "[encoded data removed]",
      "text/plain": [
       "<PIL.Image.Image image mode=RGBA size=200x100 at 0x1043C0908>"
      ]
     },
     "metadata": {},
     "output_type": "display_data"
    }
   ],
   "source": [
    "width = 200\n",
    "new_drawing(width, 100)\n",
    "set_width(5)\n",
    "turn_left(90)\n",
    "forward(width / 2)\n",
    "turn_right(180)\n",
    "i = 0\n",
    "while i < 3:\n",
    "    pen_down()\n",
    "    forward(10)\n",
    "    pen_up()\n",
    "    forward(10)\n",
    "    i = i + 1\n",
    "show()"
   ]
  },
  {
   "cell_type": "markdown",
   "metadata": {},
   "source": [
    "Now lets take a look at a recursive example. We are going to try to draw a spiral. We have provided an example below. Think about what is happening at each step of the recursion. Try to modify this code to make a larger spiral. Also see if you can modify the code so that the spiral changes color as it gets closer to the center."
   ]
  },
  {
   "cell_type": "code",
   "execution_count": 15,
   "metadata": {
    "collapsed": false
   },
   "outputs": [
    {
     "data": {
      "image/png": "[encoded data removed]",
      "text/plain": [
       "<PIL.Image.Image image mode=RGBA size=200x200 at 0x1043C0A58>"
      ]
     },
     "metadata": {},
     "output_type": "display_data"
    }
   ],
   "source": [
    "new_drawing(200, 200)\n",
    "# These commands put the pen in the upper left corner\n",
    "forward(100)\n",
    "turn_left(90)\n",
    "forward(100)\n",
    "turn_right(180)\n",
    "\n",
    "# Now we will draw the spiral\n",
    "pen_down()\n",
    "def spiral(n):\n",
    "    if n <= 0:\n",
    "        return\n",
    "    set_color(255, 0, 0)\n",
    "    forward(n)\n",
    "    turn_right(90)\n",
    "    spiral(n-8)\n",
    "spiral(70)\n",
    "show()"
   ]
  },
  {
   "cell_type": "markdown",
   "metadata": {},
   "source": [
    "Now for a more advanced recursive example. This piece of code draws a tree, by drawing a bunch of smaller trees as its branches. Notice how every part of the tree looks like a whole tree! This kind of drawing is referred to as recursive art."
   ]
  },
  {
   "cell_type": "code",
   "execution_count": 16,
   "metadata": {
    "collapsed": false
   },
   "outputs": [
    {
     "data": {
      "image/png": "[encoded data removed]",
      "text/plain": [
       "<PIL.Image.Image image mode=RGBA size=400x400 at 0x1043CA2E8>"
      ]
     },
     "metadata": {},
     "output_type": "display_data"
    }
   ],
   "source": [
    "new_drawing(400, 400)\n",
    "forward(-150)\n",
    "def tree(n):\n",
    "    if n == 0:\n",
    "        return\n",
    "    if n <= 3:\n",
    "        set_color(0,255,0)\n",
    "    else:\n",
    "        set_color(255 - 20*n,0,0)\n",
    "    set_width(n)\n",
    "    pen_down()\n",
    "    forward(5*n)\n",
    "    pen_up()\n",
    "    turn_left(30)\n",
    "    tree(n-1)\n",
    "    turn_right(60)\n",
    "    tree(n-1)\n",
    "    turn_left(30)\n",
    "    forward(-5*n)\n",
    "tree(10)\n",
    "show()"
   ]
  },
  {
   "cell_type": "markdown",
   "metadata": {},
   "source": [
    "Recursive art is a popular application of computer graphics, and many people have created some very interesting designs by using recursion. In fact, every semester in CS61A here at UC Berkeley, we have a recursive art contest to see which student can produce the most interesting designs."
   ]
  },
  {
   "cell_type": "markdown",
   "metadata": {},
   "source": [
    "## Task\n",
    "\n",
    "If you would like to try making a design of your own, implement it below and show it to your mentor. We will put everyone's recursive drawing on the EECS Day Fall 2016 website!\n",
    "\n",
    "(Mentors, log into your bMail from this computer and email the code to serv@hkn.eecs.berkeley.edu)"
   ]
  },
  {
   "cell_type": "code",
   "execution_count": 17,
   "metadata": {
    "collapsed": true
   },
   "outputs": [],
   "source": [
    "# Try your own recursive art design here!"
   ]
  }
 ],
 "metadata": {
  "kernelspec": {
   "display_name": "Python 3",
   "language": "python",
   "name": "python3"
  },
  "language_info": {
   "codemirror_mode": {
    "name": "ipython",
    "version": 3
   },
   "file_extension": ".py",
   "mimetype": "text/x-python",
   "name": "python",
   "nbconvert_exporter": "python",
   "pygments_lexer": "ipython3",
   "version": "3.5.1"
  }
 },
 "nbformat": 4,
 "nbformat_minor": 0
}
