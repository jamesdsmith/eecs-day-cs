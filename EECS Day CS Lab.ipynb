{
 "cells": [
  {
   "cell_type": "markdown",
   "metadata": {},
   "source": [
    "# CS Lab\n",
    "\n",
    "Possible order of things:\n",
    "\n",
    "* Show some basic expression examples\n",
    "    * Variables\n",
    "* Functions\n",
    "* Recursion\n",
    "* Some kind of drawing introduction\n",
    "    * Does turtle work in iPython? What about the Graphics package? Should we just use MatPlotLib drawing utils?\n",
    "* Make a recursive drawing\n",
    "    * Prove an example of one, maybe the recursive tree"
   ]
  },
  {
   "cell_type": "code",
   "execution_count": 1,
   "metadata": {
    "collapsed": true
   },
   "outputs": [],
   "source": [
    "from drawing import *\n",
    "from math import *\n",
    "%matplotlib inline\n",
    "\n",
    "import matplotlib\n",
    "import numpy as np\n",
    "import matplotlib.pyplot as plt\n",
    "from PIL import Image, ImageDraw"
   ]
  },
  {
   "cell_type": "code",
   "execution_count": 63,
   "metadata": {
    "collapsed": false
   },
   "outputs": [],
   "source": [
    "size = 4\n",
    "background_color=(1,1,1)\n",
    "angle=[0]\n",
    "pen_state=[0]\n",
    "pos=[0,0]\n",
    "p=[None]\n",
    "image = [Image.new('RGBA', (200, 200))]\n",
    "draw = [ImageDraw.Draw(image[0])]\n",
    "color=[255, 0, 0]\n",
    "\n",
    "def new_drawing():\n",
    "    fig = plt.figure(figsize=(size,size),facecolor=background_color)\n",
    "    #plt.axis(\"off\")\n",
    "    #ax = plt.Axes(fig, [0., 0., 1., 1.])\n",
    "    #ax.set_axis_off()\n",
    "    #fig.add_axes(ax)\n",
    "    p[0] = plt\n",
    "    angle[0]=0\n",
    "    pen_state[0]=0\n",
    "    pos[0]=0\n",
    "    pos[1]=0\n",
    "    image[0] = Image.new('RGBA', (200, 200))\n",
    "    draw[0] = ImageDraw.Draw(image[0])\n",
    "\n",
    "def show():\n",
    "    p[0].imshow(np.asarray(image[0]))\n",
    "\n",
    "def pen_down():\n",
    "    pen_state[0]=1\n",
    "\n",
    "def pen_up():\n",
    "    pen_state[0]=0\n",
    "\n",
    "def forward(dist):\n",
    "    newpos = [pos[0] + cos(angle[0])*dist, pos[1] + sin(angle[0])*dist]\n",
    "    if pen_state[0] == 1:\n",
    "        draw[0].line([(pos[0], pos[1]), (newpos[0], newpos[1])], (color[0], color[1], color[2]), 2)\n",
    "    pos[0] = newpos[0]\n",
    "    pos[1] = newpos[1]\n",
    "\n",
    "def goto(x, y):\n",
    "    pos[0] = x\n",
    "    pos[1] = y\n",
    "\n",
    "def turn_right(deg):\n",
    "    angle[0] += deg * pi / 180\n",
    "    \n",
    "def turn_left(deg):\n",
    "    turn_right(-deg)\n",
    "\n",
    "def set_color(c):\n",
    "    color[0] = c[0]\n",
    "    color[1] = c[1]\n",
    "    color[2] = c[2]\n",
    "\n",
    "def get_color():\n",
    "    return color\n",
    "    "
   ]
  },
  {
   "cell_type": "code",
   "execution_count": 64,
   "metadata": {
    "collapsed": false
   },
   "outputs": [
    {
     "data": {
      "image/png": "[encoded data removed]",
      "text/plain": [
       "<matplotlib.figure.Figure at 0x10c5bf978>"
      ]
     },
     "metadata": {},
     "output_type": "display_data"
    },
    {
     "data": {
      "image/png": "[encoded data removed]",
      "text/plain": [
       "<matplotlib.figure.Figure at 0x10c5bf908>"
      ]
     },
     "metadata": {},
     "output_type": "display_data"
    },
    {
     "data": {
      "image/png": "[encoded data removed]",
      "text/plain": [
       "<matplotlib.figure.Figure at 0x10b5cff60>"
      ]
     },
     "metadata": {},
     "output_type": "display_data"
    }
   ],
   "source": [
    "new_drawing()\n",
    "goto(100,100)\n",
    "pen_down()\n",
    "turn_right(0)\n",
    "forward(10)\n",
    "turn_right(90)\n",
    "forward(10)\n",
    "pen_up()\n",
    "show()\n",
    "\n",
    "new_drawing()\n",
    "goto(10,10)\n",
    "pen_down()\n",
    "forward(100)\n",
    "show()\n",
    "\n",
    "new_drawing()\n",
    "def tree(n):\n",
    "    if n == 0:\n",
    "        return\n",
    "    c = get_color()\n",
    "    set_color((c[0] - 10, c[1], c[2]))\n",
    "    pen_down()\n",
    "    forward(10*n)\n",
    "    pen_up()\n",
    "    set_color(c)\n",
    "    turn_left(60)\n",
    "    tree(n-1)\n",
    "    turn_right(60)\n",
    "    tree(n-1)\n",
    "    turn_right(60)\n",
    "    tree(n-1)\n",
    "    turn_left(60)\n",
    "    forward(-10*n)\n",
    "goto(100,200)\n",
    "turn_left(90)\n",
    "tree(4)\n",
    "show()"
   ]
  },
  {
   "cell_type": "code",
   "execution_count": null,
   "metadata": {
    "collapsed": true
   },
   "outputs": [],
   "source": []
  },
  {
   "cell_type": "code",
   "execution_count": null,
   "metadata": {
    "collapsed": true
   },
   "outputs": [],
   "source": []
  }
 ],
 "metadata": {
  "kernelspec": {
   "display_name": "Python 3",
   "language": "python",
   "name": "python3"
  },
  "language_info": {
   "codemirror_mode": {
    "name": "ipython",
    "version": 3
   },
   "file_extension": ".py",
   "mimetype": "text/x-python",
   "name": "python",
   "nbconvert_exporter": "python",
   "pygments_lexer": "ipython3",
   "version": "3.5.1"
  }
 },
 "nbformat": 4,
 "nbformat_minor": 0
}
