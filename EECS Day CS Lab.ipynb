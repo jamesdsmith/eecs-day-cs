{
 "cells": [
  {
   "cell_type": "markdown",
   "metadata": {},
   "source": [
    "# CS Lab\n",
    "\n",
    "Possible order of things:\n",
    "\n",
    "* Show some basic expression examples\n",
    "    * Variables\n",
    "* Functions\n",
    "* Recursion\n",
    "* Some kind of drawing introduction\n",
    "    * Does turtle work in iPython? What about the Graphics package? Should we just use MatPlotLib drawing utils?\n",
    "* Make a recursive drawing\n",
    "    * Prove an example of one, maybe the recursive tree"
   ]
  },
  {
   "cell_type": "code",
   "execution_count": 30,
   "metadata": {
    "collapsed": true
   },
   "outputs": [],
   "source": [
    "from drawing import *\n",
    "from math import *\n",
    "%matplotlib inline\n",
    "\n",
    "import matplotlib\n",
    "import numpy as np\n",
    "import matplotlib.pyplot as plt"
   ]
  },
  {
   "cell_type": "code",
   "execution_count": 77,
   "metadata": {
    "collapsed": false
   },
   "outputs": [],
   "source": [
    "size = 4\n",
    "background_color=(1,0,1)\n",
    "angle=[0]\n",
    "pen_state=[0]\n",
    "pos=[0,0]\n",
    "p=[None]\n",
    "\n",
    "def new_drawing():\n",
    "    fig = plt.figure(figsize=(size,size),facecolor=background_color)\n",
    "    #plt.axis(\"off\")\n",
    "    #ax = plt.Axes(fig, [0., 0., 1., 1.])\n",
    "    #ax.set_axis_off()\n",
    "    #fig.add_axes(ax)\n",
    "    p[0] = plt\n",
    "    angle[0]=0\n",
    "    pen_state[0]=0\n",
    "    pos[0]=0\n",
    "    pos[1]=0\n",
    "\n",
    "def show():\n",
    "    p[0].show()\n",
    "\n",
    "def pen_down():\n",
    "    pen_state[0]=1\n",
    "\n",
    "def pen_up():\n",
    "    pen_state[0]=0\n",
    "\n",
    "def forward(dist):\n",
    "    newpos = [pos[0] + cos(angle[0])*dist, pos[1] + sin(angle[0])*dist]\n",
    "    print(pos, newpos)\n",
    "    if pen_state[0] == 1:\n",
    "        p[0].plot([pos[0], pos[1]], [newpos[0], newpos[1]], \"k-\")\n",
    "    pos[0] = newpos[0]\n",
    "    pos[1] = newpos[1]\n",
    "    print(pos)\n",
    "\n",
    "def goto(x, y):\n",
    "    pos[0] = x\n",
    "    pos[1] = y\n",
    "\n",
    "def turn_right(deg):\n",
    "    angle[0] += deg * pi / 180\n",
    "    \n",
    "def turn_left(deg):\n",
    "    turn_right(-deg)\n"
   ]
  },
  {
   "cell_type": "code",
   "execution_count": 78,
   "metadata": {
    "collapsed": false
   },
   "outputs": [
    {
     "name": "stdout",
     "output_type": "stream",
     "text": [
      "[0, 0] [0.7071067811865476, -0.7071067811865475]\n",
      "[0.7071067811865476, -0.7071067811865475]\n",
      "[0.7071067811865476, -0.7071067811865475] [1.4142135623730951, -1.414213562373095]\n",
      "[1.4142135623730951, -1.414213562373095]\n"
     ]
    },
    {
     "data": {
      "image/png": "[encoded data removed]",
      "text/plain": [
       "<matplotlib.figure.Figure at 0x1040e3390>"
      ]
     },
     "metadata": {},
     "output_type": "display_data"
    }
   ],
   "source": [
    "new_drawing()\n",
    "pen_down()\n",
    "turn_left(45)\n",
    "forward(1)\n",
    "forward(1)\n",
    "pen_up()\n",
    "show()"
   ]
  },
  {
   "cell_type": "code",
   "execution_count": 79,
   "metadata": {
    "collapsed": false
   },
   "outputs": [
    {
     "data": {
      "text/plain": [
       "array([[0, 0, 1, 1, 1, 1, 1, 0, 0, 0],\n",
       "       [0, 1, 1, 1, 1, 1, 1, 1, 0, 0],\n",
       "       [1, 1, 1, 1, 1, 1, 1, 1, 1, 0],\n",
       "       [1, 1, 1, 1, 1, 1, 1, 1, 1, 0],\n",
       "       [1, 1, 1, 1, 1, 1, 1, 1, 1, 0],\n",
       "       [1, 1, 1, 1, 1, 1, 1, 1, 1, 0],\n",
       "       [1, 1, 1, 1, 1, 1, 1, 1, 1, 0],\n",
       "       [0, 1, 1, 1, 1, 1, 1, 1, 0, 0],\n",
       "       [0, 0, 1, 1, 1, 1, 1, 0, 0, 0],\n",
       "       [0, 0, 0, 0, 0, 0, 0, 0, 0, 0]], dtype=uint8)"
      ]
     },
     "execution_count": 79,
     "metadata": {},
     "output_type": "execute_result"
    }
   ],
   "source": [
    "from skimage.draw import circle\n",
    "img = np.zeros((10, 10), dtype=np.uint8)\n",
    "rr, cc = circle(4, 4, 5)\n",
    "img[rr, cc] = 1\n",
    "img"
   ]
  },
  {
   "cell_type": "code",
   "execution_count": null,
   "metadata": {
    "collapsed": true
   },
   "outputs": [],
   "source": []
  }
 ],
 "metadata": {
  "kernelspec": {
   "display_name": "Python 3",
   "language": "python",
   "name": "python3"
  },
  "language_info": {
   "codemirror_mode": {
    "name": "ipython",
    "version": 3
   },
   "file_extension": ".py",
   "mimetype": "text/x-python",
   "name": "python",
   "nbconvert_exporter": "python",
   "pygments_lexer": "ipython3",
   "version": "3.5.1"
  }
 },
 "nbformat": 4,
 "nbformat_minor": 0
}
