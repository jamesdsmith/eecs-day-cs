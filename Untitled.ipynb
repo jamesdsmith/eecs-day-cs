{
 "cells": [
  {
   "cell_type": "markdown",
   "metadata": {},
   "source": [
    "We've build a drawing module for you to experiment with. The drawing commands mimick how someone would draw with a pen on paper. Run this next cell to import these functions"
   ]
  },
  {
   "cell_type": "code",
   "execution_count": null,
   "metadata": {
    "collapsed": false
   },
   "outputs": [],
   "source": [
    "from drawing import *"
   ]
  },
  {
   "cell_type": "markdown",
   "metadata": {},
   "source": [
    "You can create a new image to draw on by calling **new_drawing**, and passing in the size of the image you want to create. Then you can tell the drawing system to put the pen down onto the image by calling **pen_down**. Calling **forward(x)** moves the pen a distance of x in the forward direction (which is up by default). Then we can view the resulting image by calling **show**. Here is an example:"
   ]
  },
  {
   "cell_type": "code",
   "execution_count": null,
   "metadata": {
    "collapsed": false
   },
   "outputs": [],
   "source": [
    "new_drawing(100, 100)  # The size of the new image will be 100x100\n",
    "pen_down()             # Put the pen down on the page\n",
    "forward(20)            # Move the pen forward by a distance 20\n",
    "show()                 # Show the resulting image"
   ]
  },
  {
   "cell_type": "markdown",
   "metadata": {},
   "source": [
    "Try to image how you would draw a line on paper. You would tell your arm to do a similar command sequence (Put pen down, move pen)\n",
    "\n",
    "Now lets try another command. We can rotate the direction the pen moves by calling **turn_right** and **turn_left**. You need to tell it how many degrees to rotate (remember, 90 degrees is a right turn). Also, you can make modifications to your drawing by calling more commands and then calling **show** again. No need to call new_drawing every time!"
   ]
  },
  {
   "cell_type": "code",
   "execution_count": null,
   "metadata": {
    "collapsed": false
   },
   "outputs": [],
   "source": [
    "# Because we didnt call new_drawing, just draw on top of the old drawing\n",
    "turn_right(90)\n",
    "forward(40)\n",
    "show()"
   ]
  },
  {
   "cell_type": "markdown",
   "metadata": {},
   "source": [
    "The next command we will look at is **set_color**. This allows us to change the color of the line that the pen will draw. Think of it like changing the ink of the pen. set_color has 3 parameters, a red value, green value, and blue value (called RGB). All colors can be represented by mixing various amounts of these 3 colors. The values range from 0 to 255, where 0 means none of that color and 255 means maximum of that color. Here is a table of some common colors:\n",
    "\n",
    "| Color  | R | G | B |\n",
    "| ------ |---|---|---|\n",
    "| Red    |255| 0 | 0 |\n",
    "| Green  | 0 |255| 0 |\n",
    "| Blue   | 0 | 0 |255|\n",
    "| Yellow |255|255| 0 |\n",
    "| Orange |255|165| 0 |\n",
    "| Purple |160|32 |240|\n",
    "\n",
    "Draw a few more lines below with a few different colors (we've included one as an example)"
   ]
  },
  {
   "cell_type": "code",
   "execution_count": null,
   "metadata": {
    "collapsed": false
   },
   "outputs": [],
   "source": [
    "turn_right(135)\n",
    "set_color(0, 0, 255)\n",
    "forward(20)\n",
    "show()"
   ]
  },
  {
   "cell_type": "markdown",
   "metadata": {},
   "source": [
    "It is also sometimes useful to know what color the pen currently has. You can call **get_color** to return the R, G, and B values."
   ]
  },
  {
   "cell_type": "code",
   "execution_count": null,
   "metadata": {
    "collapsed": false
   },
   "outputs": [],
   "source": [
    "r, g, b = get_color()\n",
    "print(r)\n",
    "print(g)\n",
    "print(b)"
   ]
  },
  {
   "cell_type": "markdown",
   "metadata": {},
   "source": [
    "Sometimes when we are drawing something we want to pick the pen up and move it. We can do this by calling **pen_up**. Now when we move the pen, it will not draw lines. Lets draw a dashed line using this new command.\n",
    "\n",
    "We will also make the dashed line thicker by using **set_width(w)**. This changes the width of the line that is drawn to **w**."
   ]
  },
  {
   "cell_type": "code",
   "execution_count": null,
   "metadata": {
    "collapsed": false
   },
   "outputs": [],
   "source": [
    "new_drawing(100, 100)\n",
    "set_width(5)     # Draw a thicker line by using set_width\n",
    "turn_left(90)\n",
    "forward(50)\n",
    "turn_right(180)\n",
    "pen_down()\n",
    "forward(10)\n",
    "pen_up()         # We are picking the pen up here\n",
    "forward(10)      # Moving the pen\n",
    "pen_down()       # Now the pen is back down, so movements will draw lines\n",
    "forward(10)\n",
    "pen_up()\n",
    "forward(10)\n",
    "pen_down()\n",
    "forward(10)\n",
    "show()"
   ]
  },
  {
   "cell_type": "markdown",
   "metadata": {},
   "source": [
    "These are the basic commands of the pen drawing system. We have included this table so you can remember them easily:\n",
    "\n",
    "| Command  | Description |\n",
    "| ------ ||\n",
    "| new_drawing(w, h) | Creates a new drawing with a width of **w** and a height of **h** |\n",
    "| show() | Show the drawing (make sure you do this after drawing on the new drawing, or it will look blank!) |\n",
    "| pen_down() | Puts the pen down on the image |\n",
    "| pen_up() | Picks the pen up off the image |\n",
    "| forward(x) | Move the pen forward by a distance of **x** (pixels) |\n",
    "| turn_left(d) | Turn the direction the pen will draw by **d** degrees to the left |\n",
    "| turn_right(d) | Turn the direction the pen will draw by **d** degrees to the right |\n",
    "| set_color(r, g, b) | Change the color of the pen to have the colors specified by **r**, **g**, and **b** |\n",
    "| get_color() | Returns the current r, g, and b, values |\n",
    "\n",
    "Try out a few of the commands in the space below if you want!"
   ]
  },
  {
   "cell_type": "code",
   "execution_count": null,
   "metadata": {
    "collapsed": false
   },
   "outputs": [],
   "source": []
  },
  {
   "cell_type": "markdown",
   "metadata": {},
   "source": [
    "Now lets use some of these drawing functions with the concepts we learned earlier. We will start with an iterative example. Notice how when we drew the dashed red line, we repeated a lot of commands? We could accomplish this same drawing by using a **while loop** like we learned about earlier. We have provided an example below. See if you can modify this code to draw more dashes without adding new lines, only modify an existing line. This is a much more efficient way to draw the dashed line because we can change its behavior by only modifying a small part.\n",
    "\n",
    "(if you modify it to draw more than 10 dashes, try increasing the drawing width to make sure the pen doesn't go off the side of the image)"
   ]
  },
  {
   "cell_type": "code",
   "execution_count": null,
   "metadata": {
    "collapsed": false
   },
   "outputs": [],
   "source": [
    "width = 200\n",
    "new_drawing(width, 100)\n",
    "set_width(5)\n",
    "turn_left(90)\n",
    "forward(width / 2)\n",
    "turn_right(180)\n",
    "i = 0\n",
    "while i < 3:\n",
    "    pen_down()\n",
    "    forward(10)\n",
    "    pen_up()\n",
    "    forward(10)\n",
    "    i = i + 1\n",
    "show()"
   ]
  },
  {
   "cell_type": "markdown",
   "metadata": {},
   "source": [
    "Now lets take a look at a recursive example. We are going to try to draw a spiral. We have provided an example below. Think about what is happening at each step of the recursion. Try to modify this code to make a larger spiral. Also see if you can modify the code so that the spiral changes color as it gets closer to the center."
   ]
  },
  {
   "cell_type": "code",
   "execution_count": null,
   "metadata": {
    "collapsed": false
   },
   "outputs": [],
   "source": [
    "new_drawing(200, 200)\n",
    "# These commands put the pen in the upper left corner\n",
    "forward(100)\n",
    "turn_left(90)\n",
    "forward(100)\n",
    "turn_right(180)\n",
    "\n",
    "# Now we will draw the spiral\n",
    "pen_down()\n",
    "def spiral(n):\n",
    "    if n <= 0:\n",
    "        return\n",
    "    set_color(255, 0, 0)\n",
    "    forward(n)\n",
    "    turn_right(90)\n",
    "    spiral(n-8)\n",
    "spiral(70)\n",
    "show()"
   ]
  },
  {
   "cell_type": "markdown",
   "metadata": {},
   "source": [
    "Now for a more advanced recursive example. This piece of code draws a tree, by drawing a bunch of smaller trees as its branches. Notice how every part of the tree looks like a whole tree! This kind of drawing is referred to as recursive art."
   ]
  },
  {
   "cell_type": "code",
   "execution_count": null,
   "metadata": {
    "collapsed": false
   },
   "outputs": [],
   "source": [
    "new_drawing(400, 400)\n",
    "forward(-150)\n",
    "def tree(n):\n",
    "    if n == 0:\n",
    "        return\n",
    "    if n <= 3:\n",
    "        set_color(0,255,0)\n",
    "    else:\n",
    "        set_color(255 - 20*n,0,0)\n",
    "    set_width(n)\n",
    "    pen_down()\n",
    "    forward(5*n)\n",
    "    pen_up()\n",
    "    turn_left(30)\n",
    "    tree(n-1)\n",
    "    turn_right(60)\n",
    "    tree(n-1)\n",
    "    turn_left(30)\n",
    "    forward(-5*n)\n",
    "tree(10)\n",
    "show()"
   ]
  },
  {
   "cell_type": "markdown",
   "metadata": {},
   "source": [
    "Recursive art is a popular application of computer graphics, and many people have created some very interesting designs by using recursion. In fact, every semester in CS61A here at UC Berkeley, we have a recursive art contest to see which student can produce the most interesting designs.\n",
    "\n",
    "If you would like to try making a design of your own, implement it below and show it to your mentor. We will put everyone's recursive drawing on the EECS Day Fall 2016 website!"
   ]
  },
  {
   "cell_type": "code",
   "execution_count": null,
   "metadata": {
    "collapsed": true
   },
   "outputs": [],
   "source": [
    "# Try your own recursive art design here!"
   ]
  }
 ],
 "metadata": {
  "kernelspec": {
   "display_name": "Python 3",
   "language": "python",
   "name": "python3"
  },
  "language_info": {
   "codemirror_mode": {
    "name": "ipython",
    "version": 3
   },
   "file_extension": ".py",
   "mimetype": "text/x-python",
   "name": "python",
   "nbconvert_exporter": "python",
   "pygments_lexer": "ipython3",
   "version": "3.5.1"
  }
 },
 "nbformat": 4,
 "nbformat_minor": 0
}
