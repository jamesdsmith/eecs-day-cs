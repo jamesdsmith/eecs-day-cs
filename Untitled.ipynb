{
 "cells": [
  {
   "cell_type": "code",
   "execution_count": 1,
   "metadata": {
    "collapsed": false
   },
   "outputs": [],
   "source": [
    "from drawing import *\n",
    "from math import *\n",
    "%matplotlib inline\n",
    "\n",
    "import matplotlib\n",
    "import numpy as np\n",
    "import matplotlib.pyplot as plt\n",
    "from PIL import Image, ImageDraw\n",
    "from IPython.display import Image as img\n",
    "from IPython.display import display"
   ]
  },
  {
   "cell_type": "code",
   "execution_count": 9,
   "metadata": {
    "collapsed": false
   },
   "outputs": [],
   "source": [
    "size = 4\n",
    "background_color=(1,1,1)\n",
    "angle=[0]\n",
    "pen_state=[0]\n",
    "pos=[0,0]\n",
    "p=[None]\n",
    "image = [Image.new('RGBA', (200, 200))]\n",
    "draw = [ImageDraw.Draw(image[0])]\n",
    "color=[255, 0, 0]\n",
    "pen_width=[2]\n",
    "\n",
    "class Drawing:\n",
    "    def __init__(self):\n",
    "        self.width = 400\n",
    "        self.height = 400\n",
    "        self.size = 4\n",
    "        self.bgcolor = (1,1,1)\n",
    "        self.angle = 0\n",
    "        self.pen_state = 0\n",
    "        self.pos = [0,0]\n",
    "        self.image = Image.new('RGBA', self.width, self.height)\n",
    "        self.draw = ImageDraw.Draw(self.image)\n",
    "        self.color = [255, 0, 0]\n",
    "        self.pen_width = 2\n",
    "\n",
    "d = Drawing()\n",
    "\n",
    "def new_drawing():\n",
    "    Drawing.__init__(d)\n",
    "\n",
    "def show():\n",
    "    display(image[0])\n",
    "\n",
    "def pen_down():\n",
    "    pen_state[0]=1\n",
    "\n",
    "def pen_up():\n",
    "    pen_state[0]=0\n",
    "\n",
    "def forward(dist):\n",
    "    newpos = [pos[0] + cos(angle[0])*dist, pos[1] + sin(angle[0])*dist]\n",
    "    if pen_state[0] == 1:\n",
    "        draw[0].line([(pos[0], pos[1]), (newpos[0], newpos[1])], (color[0], color[1], color[2]), pen_width[0])\n",
    "    pos[0] = newpos[0]\n",
    "    pos[1] = newpos[1]\n",
    "\n",
    "def set_width(num):\n",
    "    pen_width[0] = num\n",
    "    \n",
    "def goto(x, y):\n",
    "    pos[0] = x\n",
    "    pos[1] = y\n",
    "\n",
    "def turn_right(deg):\n",
    "    angle[0] += deg * pi / 180\n",
    "    \n",
    "def turn_left(deg):\n",
    "    turn_right(-deg)\n",
    "\n",
    "def set_color(c):\n",
    "    color[0] = c[0]\n",
    "    color[1] = c[1]\n",
    "    color[2] = c[2]\n",
    "\n",
    "def get_color():\n",
    "    return color\n",
    "    "
   ]
  },
  {
   "cell_type": "code",
   "execution_count": 7,
   "metadata": {
    "collapsed": false
   },
   "outputs": [
    {
     "data": {
      "image/png": "[encoded data removed]",
      "text/plain": [
       "<PIL.Image.Image image mode=RGBA size=400x400 at 0x10A53FCF8>"
      ]
     },
     "metadata": {},
     "output_type": "display_data"
    },
    {
     "data": {
      "image/png": "[encoded data removed]",
      "text/plain": [
       "<PIL.Image.Image image mode=RGBA size=400x400 at 0x10A528048>"
      ]
     },
     "metadata": {},
     "output_type": "display_data"
    },
    {
     "data": {
      "text/plain": [
       "<matplotlib.figure.Figure at 0x10a53f4e0>"
      ]
     },
     "metadata": {},
     "output_type": "display_data"
    },
    {
     "data": {
      "text/plain": [
       "<matplotlib.figure.Figure at 0x10a53f4a8>"
      ]
     },
     "metadata": {},
     "output_type": "display_data"
    }
   ],
   "source": [
    "new_drawing()\n",
    "goto(100,100)\n",
    "pen_down()\n",
    "turn_right(0)\n",
    "forward(10)\n",
    "turn_right(90)\n",
    "forward(10)\n",
    "pen_up()\n",
    "show()\n",
    "\n",
    "new_drawing()\n",
    "goto(10,10)\n",
    "pen_down()\n",
    "forward(100)\n",
    "show()"
   ]
  },
  {
   "cell_type": "code",
   "execution_count": 8,
   "metadata": {
    "collapsed": false
   },
   "outputs": [
    {
     "data": {
      "image/png": "[encoded data removed]",
      "text/plain": [
       "<PIL.Image.Image image mode=RGBA size=400x400 at 0x10A540518>"
      ]
     },
     "metadata": {},
     "output_type": "display_data"
    },
    {
     "data": {
      "text/plain": [
       "<matplotlib.figure.Figure at 0x10a528be0>"
      ]
     },
     "metadata": {},
     "output_type": "display_data"
    }
   ],
   "source": [
    "\n",
    "\n",
    "new_drawing()\n",
    "def tree(n):\n",
    "    if n == 0:\n",
    "        return\n",
    "    c = get_color()\n",
    "    set_width(n)\n",
    "    #set_color((255 - 60*n,0,0))\n",
    "    pen_down()\n",
    "    forward(10*n)\n",
    "    pen_up()\n",
    "    set_color(c)\n",
    "    turn_left(60)\n",
    "    tree(n-1)\n",
    "    turn_right(60)\n",
    "    tree(n-1)\n",
    "    turn_right(60)\n",
    "    tree(n-1)\n",
    "    turn_left(60)\n",
    "    forward(-10*n)\n",
    "goto(100,200)\n",
    "turn_left(90)\n",
    "tree(5)\n",
    "show()"
   ]
  },
  {
   "cell_type": "code",
   "execution_count": null,
   "metadata": {
    "collapsed": true
   },
   "outputs": [],
   "source": []
  }
 ],
 "metadata": {
  "kernelspec": {
   "display_name": "Python 3",
   "language": "python",
   "name": "python3"
  },
  "language_info": {
   "codemirror_mode": {
    "name": "ipython",
    "version": 3
   },
   "file_extension": ".py",
   "mimetype": "text/x-python",
   "name": "python",
   "nbconvert_exporter": "python",
   "pygments_lexer": "ipython3",
   "version": "3.5.1"
  }
 },
 "nbformat": 4,
 "nbformat_minor": 0
}
